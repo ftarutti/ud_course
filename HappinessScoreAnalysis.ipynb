{
 "cells": [
  {
   "attachments": {},
   "cell_type": "markdown",
   "metadata": {},
   "source": [
    "### Getting started...\n",
    "\n",
    "In this notebook, I examine some questions about the 2018 and 2019 Happiness Index Score, focusing mainly on descriptive analyses. \n",
    "\n",
    "To get started, I first load the necessary data. In addition to the Happiness Index Score data from kaggle, I load a file that assigns a continent and a subregion to the countries. "
   ]
  },
  {
   "cell_type": "code",
   "execution_count": 6,
   "metadata": {},
   "outputs": [],
   "source": [
    "import numpy as np # linear algebra\n",
    "import pandas as pd # data processing, CSV file I/O (e.g. pd.read_csv)\n",
    "#import matplotlib.pyplot as plt\n",
    "#import seaborn as sns\n",
    "\n",
    "# load the data from kaggle\n",
    "\n",
    "df = pd.read_csv('C:/Users/franz/Documents/udacity/Data/archive/report_2018-2019.csv')\n",
    "\n",
    "countries_to_continents = pd.read_csv(\"C:/Users/franz/Documents/udacity/Data/archive/countryContinent.csv\")\n"
   ]
  },
  {
   "cell_type": "markdown",
   "metadata": {},
   "source": []
  },
  {
   "cell_type": "code",
   "execution_count": null,
   "metadata": {},
   "outputs": [],
   "source": []
  }
 ],
 "metadata": {
  "kernelspec": {
   "display_name": "Python 3",
   "language": "python",
   "name": "python3"
  },
  "language_info": {
   "codemirror_mode": {
    "name": "ipython",
    "version": 3
   },
   "file_extension": ".py",
   "mimetype": "text/x-python",
   "name": "python",
   "nbconvert_exporter": "python",
   "pygments_lexer": "ipython3",
   "version": "3.11.1 (tags/v3.11.1:a7a450f, Dec  6 2022, 19:58:39) [MSC v.1934 64 bit (AMD64)]"
  },
  "orig_nbformat": 4,
  "vscode": {
   "interpreter": {
    "hash": "8fe53046bb1149f79e6bbf5fb1c9071276a5c368b980589bc27b2efd8ff4f7f5"
   }
  }
 },
 "nbformat": 4,
 "nbformat_minor": 2
}
